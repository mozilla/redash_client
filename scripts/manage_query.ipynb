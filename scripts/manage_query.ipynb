{
 "cells": [
  {
   "cell_type": "code",
   "execution_count": 1,
   "metadata": {
    "collapsed": true
   },
   "outputs": [],
   "source": [
    "class Query:\n",
    "  def __init__(self, base_path, query_id, name, data_source_id, path):\n",
    "    self.query_id = query_id\n",
    "    self.name = name\n",
    "    self.data_source_id = data_source_id    \n",
    "    self.load_query(base_path, path)\n",
    "    \n",
    "  def load_query(self, base_path, path):\n",
    "    with open('{0}/{1}'.format(base_path, path), 'r') as f:\n",
    "      self.query = f.read()"
   ]
  },
  {
   "cell_type": "code",
   "execution_count": null,
   "metadata": {
    "collapsed": true
   },
   "outputs": [],
   "source": [
    "import os\n",
    "from redash_client.client import RedashClient\n",
    "base_url = ''\n",
    "api_key = os.environ[\"REDASH_API_KEY\"]\n",
    "redash_client = RedashClient(api_key, base_url)"
   ]
  },
  {
   "cell_type": "code",
   "execution_count": null,
   "metadata": {
    "collapsed": true
   },
   "outputs": [],
   "source": [
    "import os.path\n",
    "base_path = os.path.expanduser('~') + '/projects/redash'\n",
    "import csv\n",
    "reader = csv.reader(open('{0}/queries/query_list.tsv'.format(base_path), 'r'), delimiter='\\t')\n",
    "queries = []\n",
    "header = next(reader)\n",
    "for row in reader:\n",
    "    queries.append(Query(base_path, row[0], row[1], row[2], row[3]))"
   ]
  },
  {
   "cell_type": "code",
   "execution_count": null,
   "metadata": {
    "collapsed": true
   },
   "outputs": [],
   "source": [
    "def create_new_queries(queries):\n",
    "    for query in queries:  \n",
    "        redash_client.create_new_query(query.name, query.query, query.data_source_id)  "
   ]
  },
  {
   "cell_type": "code",
   "execution_count": null,
   "metadata": {
    "collapsed": true
   },
   "outputs": [],
   "source": [
    "def update_queries(queries):\n",
    "    for query in queries:\n",
    "        redash_client.update_query(self, query.id, query.name, query.query, query.data_source_id, '')"
   ]
  }
 ],
 "metadata": {
  "kernelspec": {
   "display_name": "Python 3",
   "language": "python",
   "name": "python3"
  },
  "language_info": {
   "codemirror_mode": {
    "name": "ipython",
    "version": 3
   },
   "file_extension": ".py",
   "mimetype": "text/x-python",
   "name": "python",
   "nbconvert_exporter": "python",
   "pygments_lexer": "ipython3",
   "version": "3.6.3"
  }
 },
 "nbformat": 4,
 "nbformat_minor": 2
}
